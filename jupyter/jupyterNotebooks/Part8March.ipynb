{
 "cells": [
  {
   "cell_type": "markdown",
   "metadata": {},
   "source": [
    "<center><font size=\"+4\">Introduction to Programming and</font></center>\n",
    "<center><font size=\"+4\">Data Processing in Python 2022/2023</font></center>\n",
    "<br/>\n",
    "<center><font size=\"+2\">Core course, PhD program in Computer Science</font></center>\n",
    "<center><font size=\"+2\">GSSI Gran Sasso Science Institute, L'Aquila, Italy</font></center><br/>\n",
    "\n",
    "<center><font size=\"+2\">Course responsibles</font></center>\n",
    "<center><font size=\"+1\">\n",
    "    &nbsp;&nbsp;\n",
    "    <a href=\"https://www.santannapisa.it/en/andrea-vandin\">Andrea Vandin</a> &nbsp; a.vandin@santannapisa.it</font></center>\n",
    "<center><font size=\"+1\"><a href=\"https://www.linkedin.com/in/daniele-licari\">Daniele Licari [INFORMALLY]</a> &nbsp; d.licari@santannapisa.it</font></center>\n",
    "\n",
    "<center><img src=\"https://github.com/EMbeDS-education/IPDPP-GSSI-20222023/raw/main/jupyter/jupyterNotebooks/images/SSSAsimple.png\" width=\"700\" alt=\"EMbeDS\"></center>\n",
    "\n",
    "---\n",
    "---"
   ]
  },
  {
   "cell_type": "markdown",
   "metadata": {},
   "source": [
    "# Women in Computer Science"
   ]
  },
  {
   "cell_type": "markdown",
   "metadata": {},
   "source": [
    "Computer science has a big problem\n",
    "- Not enough women work (in industry or academia) on it\n",
    "- One of the reasons is that not many female students enroll in CS program\n",
    "  - Perhaps because it is perceived as 'non-attracting topic' by women\n",
    "    - __but CS indeed is something for women__\n",
    "    - __and many women contributed to it__"
   ]
  },
  {
   "cell_type": "markdown",
   "metadata": {},
   "source": [
    "Two notable examples:\n",
    "1. [Ada Lovelace](https://en.wikipedia.org/wiki/Ada_Lovelace), 1815-1852, UK\n",
    "    - Mathematician, but known as (one of) the __first *software* developer in history__\n",
    "    - She published what many consider the first __computer program__ \n",
    "       - An _algorithm_ executable on a mechanical machine\n",
    "       \n",
    "2. [Grace Hopper](https://en.wikipedia.org/wiki/Grace_Hopper), 1906-1992, USA\n",
    "    - Computer scientist (actually, PhD in mathematics from Yale University) and US Navy rear admiral. \n",
    "    - Pioneer of computer programming who invented \n",
    "      - the first compiler in 1952 to translate mathematical code into machine-readable code.\n",
    "      - one of the first high-level programming languages in 1956, Flow-Matic"
   ]
  },
  {
   "cell_type": "code",
   "execution_count": 1,
   "metadata": {},
   "outputs": [],
   "source": [
    "# img=Image(url_github_repo+'images/Breast-Biopsy-2.jpg',width=500)\n",
    "# from IPython.display import Image, display\n",
    "# img=Image(url_github_repo+'images/lastKahootMeme.jpeg',width=800)\n",
    "# display(img)"
   ]
  },
  {
   "cell_type": "markdown",
   "metadata": {},
   "source": [
    "![](images/womenCS.png)"
   ]
  },
  {
   "cell_type": "code",
   "execution_count": null,
   "metadata": {},
   "outputs": [],
   "source": []
  }
 ],
 "metadata": {
  "kernelspec": {
   "display_name": "env_ipdpp_2223",
   "language": "python",
   "name": "env_ipdpp_2223"
  },
  "language_info": {
   "codemirror_mode": {
    "name": "ipython",
    "version": 3
   },
   "file_extension": ".py",
   "mimetype": "text/x-python",
   "name": "python",
   "nbconvert_exporter": "python",
   "pygments_lexer": "ipython3",
   "version": "3.9.10"
  },
  "toc-autonumbering": true
 },
 "nbformat": 4,
 "nbformat_minor": 4
}
