{
 "cells": [
  {
   "cell_type": "markdown",
   "metadata": {},
   "source": [
    "<center><font size=\"+4\">Introduction to Programming and</font></center>\n",
    "<center><font size=\"+4\">Data Processing in Python 2022/2023</font></center>\n",
    "<br/>\n",
    "<center><font size=\"+2\">Core course, PhD program in Computer Science</font></center>\n",
    "<center><font size=\"+2\">GSSI Gran Sasso Science Institute, L'Aquila, Italy</font></center><br/>\n",
    "\n",
    "<center><font size=\"+2\">Course responsibles</font></center>\n",
    "<center><font size=\"+1\">\n",
    "    &nbsp;&nbsp;\n",
    "    <a href=\"https://www.santannapisa.it/en/andrea-vandin\">Andrea Vandin</a> &nbsp; a.vandin@santannapisa.it</font></center>\n",
    "<center><font size=\"+1\">[TO BE CONFIRMED]<a href=\"https://www.linkedin.com/in/daniele-licari\">Daniele Licari</a> &nbsp; d.licari@santannapisa.it</font></center>\n",
    "\n",
    "---\n",
    "---"
   ]
  },
  {
   "cell_type": "code",
   "execution_count": 1,
   "metadata": {},
   "outputs": [
    {
     "name": "stdout",
     "output_type": "stream",
     "text": [
      "Ciao\n"
     ]
    },
    {
     "name": "stdin",
     "output_type": "stream",
     "text": [
      "Give me n 3\n",
      "Give me m 4\n"
     ]
    }
   ],
   "source": [
    "print('Ciao')\n",
    "n=input('Give me n')\n",
    "m=input('Give me m')"
   ]
  },
  {
   "cell_type": "code",
   "execution_count": 2,
   "metadata": {},
   "outputs": [
    {
     "data": {
      "text/plain": [
       "7"
      ]
     },
     "execution_count": 2,
     "metadata": {},
     "output_type": "execute_result"
    }
   ],
   "source": [
    "int(n)+int(m)"
   ]
  },
  {
   "cell_type": "markdown",
   "metadata": {},
   "source": [
    "<center><font size=\"+2\">Part 0</font></center>\n",
    "<center><font size=\"+1\">Course introduction</font></center>\n",
    "\n",
    "---\n",
    "---"
   ]
  },
  {
   "cell_type": "markdown",
   "metadata": {},
   "source": [
    "# Course website & material\n",
    "All material used in this course, including jupyter notebooks & datasets are available at\n",
    "- https://github.com/EMbeDS-education/IPDPP-GSSI-20222023/wiki"
   ]
  },
  {
   "cell_type": "markdown",
   "metadata": {
    "jp-MarkdownHeadingCollapsed": true,
    "tags": []
   },
   "source": [
    "# Course structure\n",
    "\n",
    "**Part 1: _We first build our toolset_**\n",
    "- Advanced Libraries for data manipulation/visualization\n",
    "- When\n",
    "    - Class 1, 2 hours\n",
    "    - Class 2, 2 hours\n",
    "    - Class 3, 2 hours\n",
    "  - Topics\n",
    "    - JupyterLab/Google-Colab, Python, Matplotlib, NumPy, Pandas\n",
    "      - All presented with concrete simple applications on real datasets (e.g. official Italian COVID'19 data by Protezione Civile, simple application to Yahoo! Finance stock prices, text from online news...)\n",
    "    - Exploratory Data Analysis (EDA) on the Titanic Dataset \n",
    "\n",
    "**Part 2: _We apply our toolset on a case study_** \n",
    "- [Breast Cancer Wisconsin (Diagnostic) Data Set](https://archive.ics.uci.edu/ml/datasets/Breast+Cancer+Wisconsin+(Diagnostic)) \n",
    "  - When\n",
    "    - Class 4, 2 hours\n",
    "    - Class 5, 2 hours\n",
    "    - Class 6, 2 hours\n",
    "  - Topics    \n",
    "      - Scikit-Learn, Seaborn\n",
    "      - Exploratory Data Analysis (data pre-processing, outliers detection, ...)\n",
    "      - Dimensionality Reduction (PCA)\n",
    "      - Clustering (K-means)\n",
    "      - Classification (of Benign and Malignant Breast Cancer)\n",
    "      - Model evaluation and validation\n",
    "  \n",
    "**Part 3, Closing lecture**     \n",
    "- Advanced research-oriented topics: Process-oriented data science with [Process Mining](https://pm4py.fit.fraunhofer.de/)\n",
    "  - When\n",
    "    - Class 7, 2 hours\n",
    "  - Topics\n",
    "    - Tutorial of [Disco Fluxicon](https://fluxicon.com/disco/)\n",
    "    - Tutorial of [PM4Py](https://pm4py.fit.fraunhofer.de/)\n",
    "    "
   ]
  },
  {
   "cell_type": "markdown",
   "metadata": {},
   "source": [
    "# Learning objectives\n",
    "A student who has met the objectives of the course will be able to: \n",
    "- **describe** advanced Python libraries for data processing and machine learning, and **apply** such libraries to medium-complexity problems\n",
    "- **describe** the pipeline of steps/problems common in data analysis and machine learning tasks\n",
    "- **describe** and **use** techniques for process-oriented data science, and **combine** them with techniques for data analysis and machine learning\n",
    "- **communicate** analysis results in a clear and precise manner using popular web-based IDEs\n"
   ]
  },
  {
   "cell_type": "markdown",
   "metadata": {},
   "source": [
    "# How are we going to evaluate you?\n"
   ]
  },
  {
   "cell_type": "markdown",
   "metadata": {},
   "source": [
    "## Oral examination based on a project report\n",
    "* You will be given a simple _classic_ dataset\n",
    "  * Would have you survived the Titanic sinking?\n",
    "  * Or __you can propose a dataset of interest__ if any\n",
    "* You will be asked to do a data-analysis project using techniques/methodologies from the course\n",
    "* You can form groups of 2 or 3\n",
    "* We will do an oral examination based on your project\n",
    "* We also prepared some simple coding assignments to __boost your learning__ during Part 1\n",
    "  * During the oral examination we might also take a look at your solutions\n"
   ]
  },
  {
   "cell_type": "markdown",
   "metadata": {
    "tags": []
   },
   "source": [
    "## Project description\n",
    "- Consider the **Titanic** dataset available in our [dataset folder](https://github.com/EMbeDS-education/IPDPP-GSSI-20222023/wiki/Datasets) with a **description**\n",
    "  - Or contact us if you want to propose a dataset of interest for your research.\n",
    "  - Or contact us if you want to propose a [data analysis/machine learning/process mining] project of interest for your research.\n",
    "- It contains information on 1309 passengers\n",
    "  - 14 properties/attributes\n",
    "  - 1 target variable on the survival of the passenger\n",
    "- Your task is to analyze this dataset in the lines of what done during the course\n",
    "  - The final goal is to **obtain a classifier able to predict the survival probability of a hypotethical passenger**\n",
    "  - BEWARE: \n",
    "    - Try first to understand the data. Read the provided description. \n",
    "    - You should prepare and submit a [jupyterLab notebook](https://jupyterlab.readthedocs.io/en/stable/) or a link to a Google Colab ([![Colab](https://colab.research.google.com/assets/colab-badge.svg)](https://colab.research.google.com/notebooks/intro.ipynb)) containing your analysis\n",
    "      - **Properly commenting/motivating each step with suitable comments**\n",
    "      - Similarly to what we do in the jupyterLab notebooks we use in our classes\n",
    "    -  You are free to choose part of the techniques/tools seen during the course\n",
    "      - **Motivate your choices**"
   ]
  },
  {
   "cell_type": "markdown",
   "metadata": {},
   "source": [
    "# Kahoot"
   ]
  },
  {
   "cell_type": "markdown",
   "metadata": {},
   "source": [
    "<!-- ![Last kahoot meme](images/lastKahootMeme.jpg) -->\n",
    "\n",
    "But now, the most entertaining part this course :D\n",
    "- Let's Kahoot!\n",
    "\n",
    "> A memento from previous editions... :D"
   ]
  },
  {
   "cell_type": "code",
   "execution_count": 3,
   "metadata": {},
   "outputs": [
    {
     "ename": "NameError",
     "evalue": "name 'Image' is not defined",
     "output_type": "error",
     "traceback": [
      "\u001b[0;31m---------------------------------------------------------------------------\u001b[0m",
      "\u001b[0;31mNameError\u001b[0m                                 Traceback (most recent call last)",
      "Input \u001b[0;32mIn [3]\u001b[0m, in \u001b[0;36m<cell line: 1>\u001b[0;34m()\u001b[0m\n\u001b[0;32m----> 1\u001b[0m img\u001b[38;5;241m=\u001b[39m\u001b[43mImage\u001b[49m(url_github_repo\u001b[38;5;241m+\u001b[39m\u001b[38;5;124m'\u001b[39m\u001b[38;5;124mjupyter/jupyterNotebooks/images/lastKahootMeme.jpeg\u001b[39m\u001b[38;5;124m'\u001b[39m,width\u001b[38;5;241m=\u001b[39m\u001b[38;5;241m800\u001b[39m)\n\u001b[1;32m      2\u001b[0m display(img)\n",
      "\u001b[0;31mNameError\u001b[0m: name 'Image' is not defined"
     ]
    }
   ],
   "source": [
    "from IPython.display import Image, display\n",
    "img=Image(url_github_repo+'jupyter/jupyterNotebooks/images/lastKahootMeme.jpeg',width=800)\n",
    "display(img)"
   ]
  },
  {
   "cell_type": "markdown",
   "metadata": {},
   "source": [
    "How?\n",
    "* Using your phone or a different display go to [https://kahoot.it/](https://kahoot.it/)\n",
    "* Type the given PIN"
   ]
  },
  {
   "cell_type": "code",
   "execution_count": 4,
   "metadata": {},
   "outputs": [
    {
     "data": {
      "text/html": [
       "\n",
       "        <iframe\n",
       "            width=\"500\"\n",
       "            height=\"400\"\n",
       "            src=\"https://kahoot.it/\"\n",
       "            frameborder=\"0\"\n",
       "            allowfullscreen\n",
       "            \n",
       "        ></iframe>\n",
       "        "
      ],
      "text/plain": [
       "<IPython.lib.display.IFrame at 0x7fdf78553fd0>"
      ]
     },
     "execution_count": 4,
     "metadata": {},
     "output_type": "execute_result"
    }
   ],
   "source": [
    "from IPython.display import IFrame\n",
    "IFrame(\"https://kahoot.it/\", 500, 400)"
   ]
  },
  {
   "cell_type": "markdown",
   "metadata": {},
   "source": [
    "## Create your group"
   ]
  },
  {
   "cell_type": "markdown",
   "metadata": {},
   "source": [
    "__TODO__ [Please register your group here](https://docs.google.com/document/d/1aMXNlpo52d0NbPNR8UYIjtL6yN79a3hU8_EY93Jp-74/edit?usp=sharing)"
   ]
  },
  {
   "cell_type": "code",
   "execution_count": null,
   "metadata": {},
   "outputs": [],
   "source": []
  }
 ],
 "metadata": {
  "kernelspec": {
   "display_name": "env_research",
   "language": "python",
   "name": "env_research"
  },
  "language_info": {
   "codemirror_mode": {
    "name": "ipython",
    "version": 3
   },
   "file_extension": ".py",
   "mimetype": "text/x-python",
   "name": "python",
   "nbconvert_exporter": "python",
   "pygments_lexer": "ipython3",
   "version": "3.9.10"
  },
  "toc-autonumbering": true
 },
 "nbformat": 4,
 "nbformat_minor": 4
}
